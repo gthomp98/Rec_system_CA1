{
 "cells": [
  {
   "cell_type": "code",
   "execution_count": 1,
   "id": "68e665ed",
   "metadata": {},
   "outputs": [],
   "source": [
    "# This imports pandas\n",
    "import pandas as pd\n",
    "\n",
    "#This loads the appstore_games dataset and sets low memory to false\n",
    "metadata = pd.read_csv('appstore_games.csv', low_memory=False)\n",
    "\n",
    "\n",
    "\n",
    "\n"
   ]
  },
  {
   "cell_type": "code",
   "execution_count": null,
   "id": "12d3aa32",
   "metadata": {},
   "outputs": [],
   "source": []
  },
  {
   "cell_type": "code",
   "execution_count": 2,
   "id": "c8a9f162",
   "metadata": {},
   "outputs": [
    {
     "data": {
      "text/plain": [
       "(17007, 72114)"
      ]
     },
     "execution_count": 2,
     "metadata": {},
     "output_type": "execute_result"
    }
   ],
   "source": [
    "# This imports the TfIdfVectorizer from scikit-learn\n",
    "from sklearn.feature_extraction.text import TfidfVectorizer\n",
    "\n",
    "#This Clearly defines a TF-IDF Vectorizer Object. Also remove any stop words such as a and the\n",
    "tfidf = TfidfVectorizer(stop_words='english')\n",
    "\n",
    "#This replaces null values with an empty string\n",
    "metadata['Description'] = metadata['Description'].fillna('')\n",
    "\n",
    "#This finally constructs the TF-IDF matrix by formatting the data.\n",
    "tfidf_matrix = tfidf.fit_transform(metadata['Description'])\n",
    "\n",
    "#Outputs the shape of the matrix so we can see exactly what is relevant\n",
    "tfidf_matrix.shape"
   ]
  },
  {
   "cell_type": "code",
   "execution_count": 3,
   "id": "517787fb",
   "metadata": {},
   "outputs": [
    {
     "data": {
      "text/plain": [
       "['appchatter',\n",
       " 'appchoppers',\n",
       " 'appchronicles',\n",
       " 'appcone',\n",
       " 'appcraver',\n",
       " 'appcroc',\n",
       " 'appdesignuniv_',\n",
       " 'appdesignuniverse',\n",
       " 'appdev',\n",
       " 'appdictions',\n",
       " 'appeal',\n",
       " 'appealing',\n",
       " 'appeals',\n",
       " 'appear',\n",
       " 'appearance',\n",
       " 'appearances',\n",
       " 'appeared',\n",
       " 'appearence',\n",
       " 'appearing',\n",
       " 'appears',\n",
       " 'appease',\n",
       " 'appeasement',\n",
       " 'appeble',\n",
       " 'appel',\n",
       " 'appellata',\n",
       " 'appelle',\n",
       " 'appen',\n",
       " 'appena',\n",
       " 'appendix',\n",
       " 'appera',\n",
       " 'apperama',\n",
       " 'appetite',\n",
       " 'appetizing',\n",
       " 'appgamer',\n",
       " 'appgear',\n",
       " 'appgefahren',\n",
       " 'appgratis',\n",
       " 'appjacks',\n",
       " 'appjunkee',\n",
       " 'applauded',\n",
       " 'applause',\n",
       " 'apple',\n",
       " 'apple_tos',\n",
       " 'appledevices',\n",
       " 'appleiphoneschool',\n",
       " 'apples',\n",
       " 'appletell',\n",
       " 'appletv',\n",
       " 'appli',\n",
       " 'appliance']"
      ]
     },
     "execution_count": 3,
     "metadata": {},
     "output_type": "execute_result"
    }
   ],
   "source": [
    "#This uses the array mapping function to map an id to a description within the matrix\n",
    "tfidf.get_feature_names()[3500:3550]"
   ]
  },
  {
   "cell_type": "code",
   "execution_count": 4,
   "id": "0763a81e",
   "metadata": {},
   "outputs": [],
   "source": [
    "#Import the linear kernal from sklearn\n",
    "from sklearn.metrics.pairwise import linear_kernel\n",
    "\n",
    "cosine_sim = linear_kernel(tfidf_matrix, tfidf_matrix)"
   ]
  },
  {
   "cell_type": "code",
   "execution_count": 5,
   "id": "ee93651d",
   "metadata": {},
   "outputs": [
    {
     "data": {
      "text/plain": [
       "(17007, 17007)"
      ]
     },
     "execution_count": 5,
     "metadata": {},
     "output_type": "execute_result"
    }
   ],
   "source": [
    "#Outputs the shape of the similarity rows and columns with similaririty scores in each cell.\n",
    "cosine_sim.shape"
   ]
  },
  {
   "cell_type": "code",
   "execution_count": 6,
   "id": "441b2d86",
   "metadata": {},
   "outputs": [
    {
     "data": {
      "text/plain": [
       "array([0.05610853, 1.        , 0.27024775, ..., 0.04490509, 0.0192072 ,\n",
       "       0.01310685])"
      ]
     },
     "execution_count": 6,
     "metadata": {},
     "output_type": "execute_result"
    }
   ],
   "source": [
    "#First object in the array's similarity scores\n",
    "cosine_sim[1]"
   ]
  },
  {
   "cell_type": "code",
   "execution_count": 7,
   "id": "88c3de21",
   "metadata": {},
   "outputs": [],
   "source": [
    "#This is a function for reverse mapping indeces and game names.\n",
    "indices = pd.Series(metadata.index, index=metadata['Name']).drop_duplicates()"
   ]
  },
  {
   "cell_type": "code",
   "execution_count": 8,
   "id": "d39c8d2d",
   "metadata": {},
   "outputs": [
    {
     "data": {
      "text/plain": [
       "Name\n",
       "Sudoku                            0\n",
       "Reversi                           1\n",
       "Morocco                           2\n",
       "Sudoku (Free)                     3\n",
       "Senet Deluxe                      4\n",
       "Sudoku - Classic number puzzle    5\n",
       "Gravitation                       6\n",
       "Colony                            7\n",
       "Carte                             8\n",
       "\"Barrels O' Fun\"                  9\n",
       "dtype: int64"
      ]
     },
     "execution_count": 8,
     "metadata": {},
     "output_type": "execute_result"
    }
   ],
   "source": [
    "#This prints out the 10 game names that are all reverse mapped to the indices array.\n",
    "indices[:10]"
   ]
  },
  {
   "cell_type": "code",
   "execution_count": 9,
   "id": "4a236ee3",
   "metadata": {},
   "outputs": [],
   "source": [
    "#This is where we write the get recommentations function\n",
    "def get_recommendations(Name, cosine_sim=cosine_sim):\n",
    "    #this gets the index of the game that contains the name.\n",
    "    idx = indices[Name]\n",
    "    #THis gets the similarity score of all games with the selected game\n",
    "    sim_scores = list(enumerate(cosine_sim[idx]))\n",
    "    #This sorts the games based on similarity score\n",
    "    sim_scores = sorted(sim_scores, key=lambda x: x[1], reverse=True)\n",
    "    #This gets the similarity score of the 10 most similar games\n",
    "    sim_scores = sim_scores[1:11]\n",
    "    #This gets the 10 games indices\n",
    "    app_indices = [i[0] for i in sim_scores]\n",
    "    #This returns the 10 most similar games\n",
    "    return metadata['Name'].iloc[app_indices]"
   ]
  },
  {
   "cell_type": "code",
   "execution_count": 10,
   "id": "8f587687",
   "metadata": {},
   "outputs": [
    {
     "data": {
      "text/plain": [
       "35                       Color Sudoku\n",
       "30                      Expert Sudoku\n",
       "3                       Sudoku (Free)\n",
       "1035                        Sudoku HD\n",
       "1046                 Sudoku HD [Free]\n",
       "1431                 Conceptis Sudoku\n",
       "1034                 Expert Sudoku HD\n",
       "6054    Best Sudoku Classic Easy Hard\n",
       "6055    Best Sudoku Classic Easy Hard\n",
       "1033                  Color Sudoku HD\n",
       "Name: Name, dtype: object"
      ]
     },
     "execution_count": 10,
     "metadata": {},
     "output_type": "execute_result"
    }
   ],
   "source": [
    "#This is calling the function with the example chess\n",
    "get_recommendations('Sudoku')"
   ]
  },
  {
   "cell_type": "code",
   "execution_count": null,
   "id": "b0d29f29",
   "metadata": {},
   "outputs": [],
   "source": []
  }
 ],
 "metadata": {
  "kernelspec": {
   "display_name": "Python 3",
   "language": "python",
   "name": "python3"
  },
  "language_info": {
   "codemirror_mode": {
    "name": "ipython",
    "version": 3
   },
   "file_extension": ".py",
   "mimetype": "text/x-python",
   "name": "python",
   "nbconvert_exporter": "python",
   "pygments_lexer": "ipython3",
   "version": "3.8.8"
  }
 },
 "nbformat": 4,
 "nbformat_minor": 5
}
